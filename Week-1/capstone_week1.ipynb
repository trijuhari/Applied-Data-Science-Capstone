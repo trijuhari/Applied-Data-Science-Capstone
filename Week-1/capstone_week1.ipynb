{
 "cells": [
  {
   "cell_type": "markdown",
   "metadata": {},
   "source": [
    "# Applied Data Science Capstone\n",
    "\n",
    "## Final Course from Data Science Specialization (IBM/Coursera)\n",
    "\n",
    "\n",
    "# Problem\n",
    "\n",
    "The problem to solve in this project is the next:\n",
    "\n",
    "> Hypothetically, I'm currently living in the West side of the city of Toronto in Canada. I love where I live because all the amenities that the place offers, such as restaurants, hospitals, etc.\n",
    "The problem start when I recive a great job offer, but to take it, I must move to another neighborhood. So, with Machine Learning techniques, and EDA, I wanna find the place more similar to my current neighborhood.\n"
   ]
  },
  {
   "cell_type": "code",
   "execution_count": 1,
   "metadata": {},
   "outputs": [],
   "source": [
    "import pandas as pd\n",
    "import numpy as np"
   ]
  },
  {
   "cell_type": "code",
   "execution_count": 2,
   "metadata": {},
   "outputs": [
    {
     "name": "stdout",
     "output_type": "stream",
     "text": [
      "Hello Capstone Project Course!\n"
     ]
    }
   ],
   "source": [
    "print(\"Hello Capstone Project Course!\")"
   ]
  }
 ],
 "metadata": {
  "kernelspec": {
   "display_name": "Python 3",
   "language": "python",
   "name": "python3"
  },
  "language_info": {
   "codemirror_mode": {
    "name": "ipython",
    "version": 3
   },
   "file_extension": ".py",
   "mimetype": "text/x-python",
   "name": "python",
   "nbconvert_exporter": "python",
   "pygments_lexer": "ipython3",
   "version": "3.8.5"
  }
 },
 "nbformat": 4,
 "nbformat_minor": 4
}